{
 "cells": [
  {
   "cell_type": "markdown",
   "metadata": {},
   "source": [
    "# Pandas"
   ]
  },
  {
   "cell_type": "markdown",
   "metadata": {},
   "source": [
    "### Series"
   ]
  },
  {
   "cell_type": "code",
   "execution_count": 2,
   "metadata": {},
   "outputs": [
    {
     "data": {
      "text/plain": [
       "0    100\n",
       "1    200\n",
       "2    300\n",
       "dtype: int64"
      ]
     },
     "execution_count": 2,
     "metadata": {},
     "output_type": "execute_result"
    }
   ],
   "source": [
    "import pandas as pd\n",
    "\n",
    "series_test = pd.Series([100, 200, 300])\n",
    "\n",
    "series_test"
   ]
  },
  {
   "cell_type": "code",
   "execution_count": 3,
   "metadata": {},
   "outputs": [
    {
     "data": {
      "text/plain": [
       "1999    48\n",
       "2000    65\n",
       "2001    89\n",
       "dtype: int64"
      ]
     },
     "execution_count": 3,
     "metadata": {},
     "output_type": "execute_result"
    }
   ],
   "source": [
    "series_test2 = pd.Series({1999: 48,\n",
    "                         2000: 65,\n",
    "                         2001: 89})\n",
    "\n",
    "series_test2"
   ]
  },
  {
   "cell_type": "markdown",
   "metadata": {},
   "source": [
    "### DataFrames"
   ]
  },
  {
   "cell_type": "code",
   "execution_count": 4,
   "metadata": {},
   "outputs": [
    {
     "data": {
      "text/html": [
       "<div>\n",
       "<style scoped>\n",
       "    .dataframe tbody tr th:only-of-type {\n",
       "        vertical-align: middle;\n",
       "    }\n",
       "\n",
       "    .dataframe tbody tr th {\n",
       "        vertical-align: top;\n",
       "    }\n",
       "\n",
       "    .dataframe thead th {\n",
       "        text-align: right;\n",
       "    }\n",
       "</style>\n",
       "<table border=\"1\" class=\"dataframe\">\n",
       "  <thead>\n",
       "    <tr style=\"text-align: right;\">\n",
       "      <th></th>\n",
       "      <th>1999</th>\n",
       "      <th>2000</th>\n",
       "      <th>2001</th>\n",
       "    </tr>\n",
       "  </thead>\n",
       "  <tbody>\n",
       "    <tr>\n",
       "      <th>0</th>\n",
       "      <td>74</td>\n",
       "      <td>54</td>\n",
       "      <td>98</td>\n",
       "    </tr>\n",
       "    <tr>\n",
       "      <th>1</th>\n",
       "      <td>89</td>\n",
       "      <td>64</td>\n",
       "      <td>65</td>\n",
       "    </tr>\n",
       "    <tr>\n",
       "      <th>2</th>\n",
       "      <td>65</td>\n",
       "      <td>67</td>\n",
       "      <td>78</td>\n",
       "    </tr>\n",
       "    <tr>\n",
       "      <th>3</th>\n",
       "      <td>165</td>\n",
       "      <td>945</td>\n",
       "      <td>632</td>\n",
       "    </tr>\n",
       "  </tbody>\n",
       "</table>\n",
       "</div>"
      ],
      "text/plain": [
       "   1999  2000  2001\n",
       "0    74    54    98\n",
       "1    89    64    65\n",
       "2    65    67    78\n",
       "3   165   945   632"
      ]
     },
     "execution_count": 4,
     "metadata": {},
     "output_type": "execute_result"
    }
   ],
   "source": [
    "frame_test = pd.DataFrame({1999: [74, 89, 65, 165],\n",
    "                          2000: [54, 64, 67, 945],\n",
    "                          2001: [98, 65, 78, 632]})\n",
    "\n",
    "frame_test"
   ]
  },
  {
   "cell_type": "code",
   "execution_count": 16,
   "metadata": {},
   "outputs": [
    {
     "data": {
      "text/html": [
       "<div>\n",
       "<style scoped>\n",
       "    .dataframe tbody tr th:only-of-type {\n",
       "        vertical-align: middle;\n",
       "    }\n",
       "\n",
       "    .dataframe tbody tr th {\n",
       "        vertical-align: top;\n",
       "    }\n",
       "\n",
       "    .dataframe thead th {\n",
       "        text-align: right;\n",
       "    }\n",
       "</style>\n",
       "<table border=\"1\" class=\"dataframe\">\n",
       "  <thead>\n",
       "    <tr style=\"text-align: right;\">\n",
       "      <th></th>\n",
       "      <th>1999</th>\n",
       "      <th>2000</th>\n",
       "      <th>2001</th>\n",
       "      <th>2002</th>\n",
       "    </tr>\n",
       "  </thead>\n",
       "  <tbody>\n",
       "    <tr>\n",
       "      <th>Producto 1</th>\n",
       "      <td>74</td>\n",
       "      <td>89</td>\n",
       "      <td>65</td>\n",
       "      <td>165</td>\n",
       "    </tr>\n",
       "    <tr>\n",
       "      <th>Producto 2</th>\n",
       "      <td>54</td>\n",
       "      <td>64</td>\n",
       "      <td>67</td>\n",
       "      <td>945</td>\n",
       "    </tr>\n",
       "    <tr>\n",
       "      <th>Producto 3</th>\n",
       "      <td>98</td>\n",
       "      <td>65</td>\n",
       "      <td>78</td>\n",
       "      <td>632</td>\n",
       "    </tr>\n",
       "  </tbody>\n",
       "</table>\n",
       "</div>"
      ],
      "text/plain": [
       "            1999  2000  2001  2002\n",
       "Producto 1    74    89    65   165\n",
       "Producto 2    54    64    67   945\n",
       "Producto 3    98    65    78   632"
      ]
     },
     "execution_count": 16,
     "metadata": {},
     "output_type": "execute_result"
    }
   ],
   "source": [
    "v = 'Producto '\n",
    "frame_test2 =pd.DataFrame([[74, 89, 65, 165],\n",
    "                         [54, 64, 67, 945],\n",
    "                         [98, 65, 78, 632]], \n",
    "                          columns=[1999, 2000, 2001, 2002],\n",
    "                         index=[v+'1', v+'2', v+'3'])\n",
    "\n",
    "frame_test2"
   ]
  },
  {
   "cell_type": "markdown",
   "metadata": {},
   "source": [
    "### Read data"
   ]
  },
  {
   "cell_type": "code",
   "execution_count": 36,
   "metadata": {},
   "outputs": [
    {
     "data": {
      "text/html": [
       "<div>\n",
       "<style scoped>\n",
       "    .dataframe tbody tr th:only-of-type {\n",
       "        vertical-align: middle;\n",
       "    }\n",
       "\n",
       "    .dataframe tbody tr th {\n",
       "        vertical-align: top;\n",
       "    }\n",
       "\n",
       "    .dataframe thead th {\n",
       "        text-align: right;\n",
       "    }\n",
       "</style>\n",
       "<table border=\"1\" class=\"dataframe\">\n",
       "  <thead>\n",
       "    <tr style=\"text-align: right;\">\n",
       "      <th></th>\n",
       "      <th>body</th>\n",
       "      <th>title</th>\n",
       "      <th>url</th>\n",
       "    </tr>\n",
       "  </thead>\n",
       "  <tbody>\n",
       "    <tr>\n",
       "      <th>0</th>\n",
       "      <td>\\r\\n\\r\\nNos cuentan que el coordinador parlame...</td>\n",
       "      <td>NaN</td>\n",
       "      <td>https://www.eluniversal.com.mx/opinion/periodi...</td>\n",
       "    </tr>\n",
       "    <tr>\n",
       "      <th>1</th>\n",
       "      <td>\\r\\n\\r\\n\\r\\n\\r\\n\\r\\n\\r\\nLa convocatoria de Bec...</td>\n",
       "      <td>Beca de Manutención 2020: Registro en SUBES ci...</td>\n",
       "      <td>https://www.unionguanajuato.mx/articulo/2020/1...</td>\n",
       "    </tr>\n",
       "    <tr>\n",
       "      <th>2</th>\n",
       "      <td>\\r\\nQue diferencia, ahora sí la Suprema Corte ...</td>\n",
       "      <td>NaN</td>\n",
       "      <td>https://www.eluniversal.com.mx/opinion/arlequi...</td>\n",
       "    </tr>\n",
       "    <tr>\n",
       "      <th>3</th>\n",
       "      <td>\\r\\nUn tribunal alemán condenó este viernes a ...</td>\n",
       "      <td>NaN</td>\n",
       "      <td>https://www.eluniversal.com.mx/mundo/condenan-...</td>\n",
       "    </tr>\n",
       "    <tr>\n",
       "      <th>4</th>\n",
       "      <td>\\r\\n\\r\\nLos grupos parlamentarios de oposición...</td>\n",
       "      <td>NaN</td>\n",
       "      <td>https://www.eluniversal.com.mx/nacion/revienta...</td>\n",
       "    </tr>\n",
       "    <tr>\n",
       "      <th>...</th>\n",
       "      <td>...</td>\n",
       "      <td>...</td>\n",
       "      <td>...</td>\n",
       "    </tr>\n",
       "    <tr>\n",
       "      <th>8</th>\n",
       "      <td>\\r\\n\\r\\n\\r\\n\\r\\n\\r\\n\\r\\nLa participación de jó...</td>\n",
       "      <td>La Guadaña, la trágica muerte de la pistolera ...</td>\n",
       "      <td>https://www.unionjalisco.mx/articulo/2020/10/0...</td>\n",
       "    </tr>\n",
       "    <tr>\n",
       "      <th>9</th>\n",
       "      <td>\\r\\nMorena y sus sectores sociales han radical...</td>\n",
       "      <td>NaN</td>\n",
       "      <td>https://www.eluniversal.com.mx/opinion/marcela...</td>\n",
       "    </tr>\n",
       "    <tr>\n",
       "      <th>10</th>\n",
       "      <td>\\r\\n\\r\\nLa decisión sobre si se otorga o no un...</td>\n",
       "      <td>NaN</td>\n",
       "      <td>https://www.viveusa.mx/educacion/se-puede-volv...</td>\n",
       "    </tr>\n",
       "    <tr>\n",
       "      <th>11</th>\n",
       "      <td>\\r\\nMiguel Barbosa, gobernador del estado de P...</td>\n",
       "      <td>NaN</td>\n",
       "      <td>https://www.eluniversal.com.mx/universal-depor...</td>\n",
       "    </tr>\n",
       "    <tr>\n",
       "      <th>12</th>\n",
       "      <td>\\r\\nPatricio Borghetti lamentó el fallecimient...</td>\n",
       "      <td>NaN</td>\n",
       "      <td>https://www.eluniversal.com.mx/espectaculos/pa...</td>\n",
       "    </tr>\n",
       "  </tbody>\n",
       "</table>\n",
       "<p>13 rows × 3 columns</p>\n",
       "</div>"
      ],
      "text/plain": [
       "                                                 body  \\\n",
       "0   \\r\\n\\r\\nNos cuentan que el coordinador parlame...   \n",
       "1   \\r\\n\\r\\n\\r\\n\\r\\n\\r\\n\\r\\nLa convocatoria de Bec...   \n",
       "2   \\r\\nQue diferencia, ahora sí la Suprema Corte ...   \n",
       "3   \\r\\nUn tribunal alemán condenó este viernes a ...   \n",
       "4   \\r\\n\\r\\nLos grupos parlamentarios de oposición...   \n",
       "..                                                ...   \n",
       "8   \\r\\n\\r\\n\\r\\n\\r\\n\\r\\n\\r\\nLa participación de jó...   \n",
       "9   \\r\\nMorena y sus sectores sociales han radical...   \n",
       "10  \\r\\n\\r\\nLa decisión sobre si se otorga o no un...   \n",
       "11  \\r\\nMiguel Barbosa, gobernador del estado de P...   \n",
       "12  \\r\\nPatricio Borghetti lamentó el fallecimient...   \n",
       "\n",
       "                                                title  \\\n",
       "0                                                 NaN   \n",
       "1   Beca de Manutención 2020: Registro en SUBES ci...   \n",
       "2                                                 NaN   \n",
       "3                                                 NaN   \n",
       "4                                                 NaN   \n",
       "..                                                ...   \n",
       "8   La Guadaña, la trágica muerte de la pistolera ...   \n",
       "9                                                 NaN   \n",
       "10                                                NaN   \n",
       "11                                                NaN   \n",
       "12                                                NaN   \n",
       "\n",
       "                                                  url  \n",
       "0   https://www.eluniversal.com.mx/opinion/periodi...  \n",
       "1   https://www.unionguanajuato.mx/articulo/2020/1...  \n",
       "2   https://www.eluniversal.com.mx/opinion/arlequi...  \n",
       "3   https://www.eluniversal.com.mx/mundo/condenan-...  \n",
       "4   https://www.eluniversal.com.mx/nacion/revienta...  \n",
       "..                                                ...  \n",
       "8   https://www.unionjalisco.mx/articulo/2020/10/0...  \n",
       "9   https://www.eluniversal.com.mx/opinion/marcela...  \n",
       "10  https://www.viveusa.mx/educacion/se-puede-volv...  \n",
       "11  https://www.eluniversal.com.mx/universal-depor...  \n",
       "12  https://www.eluniversal.com.mx/espectaculos/pa...  \n",
       "\n",
       "[13 rows x 3 columns]"
      ]
     },
     "execution_count": 36,
     "metadata": {},
     "output_type": "execute_result"
    }
   ],
   "source": [
    "pd.options.display.max_rows = 10\n",
    "\n",
    "el_universal = pd.read_csv('eluniversal_2020_10_02_articles.csv', encoding='ISO-8859-1')\n",
    "\n",
    "el_universal"
   ]
  },
  {
   "cell_type": "markdown",
   "metadata": {},
   "source": [
    "### Index and Selection"
   ]
  },
  {
   "cell_type": "code",
   "execution_count": 37,
   "metadata": {},
   "outputs": [
    {
     "data": {
      "text/plain": [
       "0                                                   NaN\n",
       "1     Beca de Manutención 2020: Registro en SUBES ci...\n",
       "2                                                   NaN\n",
       "3                                                   NaN\n",
       "4                                                   NaN\n",
       "                            ...                        \n",
       "8     La Guadaña, la trágica muerte de la pistolera ...\n",
       "9                                                   NaN\n",
       "10                                                  NaN\n",
       "11                                                  NaN\n",
       "12                                                  NaN\n",
       "Name: title, Length: 13, dtype: object"
      ]
     },
     "execution_count": 37,
     "metadata": {},
     "output_type": "execute_result"
    }
   ],
   "source": [
    "# dictionary like\n",
    "\n",
    "el_universal['title']"
   ]
  },
  {
   "cell_type": "raw",
   "metadata": {},
   "source": []
  }
 ],
 "metadata": {
  "kernelspec": {
   "display_name": "Python 3",
   "language": "python",
   "name": "python3"
  },
  "language_info": {
   "codemirror_mode": {
    "name": "ipython",
    "version": 3
   },
   "file_extension": ".py",
   "mimetype": "text/x-python",
   "name": "python",
   "nbconvert_exporter": "python",
   "pygments_lexer": "ipython3",
   "version": "3.8.3"
  }
 },
 "nbformat": 4,
 "nbformat_minor": 4
}
